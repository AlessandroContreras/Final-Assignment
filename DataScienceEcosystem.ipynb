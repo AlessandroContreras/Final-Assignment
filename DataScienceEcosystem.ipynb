{
 "cells": [
  {
   "cell_type": "markdown",
   "id": "ecafe6cf-1f03-46b2-9221-4f0cfb23381b",
   "metadata": {},
   "source": [
    "# Data Science Tools and Ecosystem"
   ]
  },
  {
   "cell_type": "markdown",
   "id": "7021f1e0-54d9-42ad-8a1b-313c537f9be1",
   "metadata": {},
   "source": [
    "In this notebook, Data Science Tools and Ecosystem are summarized."
   ]
  },
  {
   "cell_type": "markdown",
   "id": "fedb4758-4cec-48e4-9c38-33644f026dc8",
   "metadata": {},
   "source": [
    "Objectives:\n",
    "\n",
    "- Popular languages in Data Scientists\n",
    "- The commonly used libraries used by Data Scientists\n",
    "- Data Science Tools\n",
    "- Arithmetic expressions in Python"
   ]
  },
  {
   "cell_type": "markdown",
   "id": "216efcac-a262-4612-aa92-14c20ba75dc3",
   "metadata": {},
   "source": [
    "Some of the popular languages that Data Scientists use are:\n",
    "\n",
    "1. Python\n",
    "2. R\n",
    "3. Julia\n",
    "4. SQL"
   ]
  },
  {
   "cell_type": "markdown",
   "id": "3f4b5319-161c-4891-b47a-8399494c103c",
   "metadata": {},
   "source": [
    "Some of the commonly used libraries used by Data Scientists include:\n",
    "\n",
    "1. Pandas\n",
    "2. Matplotlip\n",
    "3. TensorFlow"
   ]
  },
  {
   "cell_type": "markdown",
   "id": "bd3bef5b-e949-4b10-8d76-2dbe0d0bab63",
   "metadata": {
    "tags": []
   },
   "source": [
    "Data Science Tools\n",
    "\n",
    "| Data Science Tools |\n",
    "|--------------------|\n",
    "| Jupyter Lab        |\n",
    "| Apache Spark       |\n",
    "| RStudio            | \n"
   ]
  },
  {
   "cell_type": "markdown",
   "id": "c3419c87-1611-4e5f-a8a3-9b0187cb574f",
   "metadata": {},
   "source": [
    "### Below are a few examples of evaluating arithmetic expressions in Python\n",
    "\n",
    "\n",
    "result = 5 + 3  *Addition*\n",
    "\n",
    "print(result)  *Output: 8*\n",
    "\n",
    "result = 12 - 7   *Subtraction*\n",
    "\n",
    "print(result)   *Output: 5*\n",
    "\n",
    "result = 4 * 6   *Multiplication*\n",
    "\n",
    "print(result)   *Output: 24*"
   ]
  },
  {
   "cell_type": "code",
   "execution_count": 3,
   "id": "297da9c9-08cb-4a70-acee-6ecc34b9f215",
   "metadata": {
    "tags": []
   },
   "outputs": [
    {
     "data": {
      "text/plain": [
       "17"
      ]
     },
     "execution_count": 3,
     "metadata": {},
     "output_type": "execute_result"
    }
   ],
   "source": [
    "(3*4)+5 # This is a simple arithmetic expression to mutiply then add integers in Python"
   ]
  },
  {
   "cell_type": "code",
   "execution_count": 6,
   "id": "00d8bc34-9f0a-46bb-9b3a-b7e8cff66553",
   "metadata": {
    "tags": []
   },
   "outputs": [
    {
     "name": "stdout",
     "output_type": "stream",
     "text": [
      "3.33\n"
     ]
    }
   ],
   "source": [
    "#This will convert 200 minutes to hours by diving by 60\n",
    "minutes = 200\n",
    "\n",
    "hours = minutes / 60\n",
    "\n",
    "print(round(hours , 2))\n",
    "\n"
   ]
  },
  {
   "cell_type": "markdown",
   "id": "78cbf287-6f49-4cdb-a214-248c72cd2f0c",
   "metadata": {},
   "source": [
    "## Author\n",
    "Marco Alessandro Contreras Solis"
   ]
  },
  {
   "cell_type": "code",
   "execution_count": null,
   "id": "4dd0033a-302d-4412-8472-cec90f1c8df0",
   "metadata": {},
   "outputs": [],
   "source": []
  }
 ],
 "metadata": {
  "kernelspec": {
   "display_name": "Python 3 (ipykernel)",
   "language": "python",
   "name": "python3"
  },
  "language_info": {
   "codemirror_mode": {
    "name": "ipython",
    "version": 3
   },
   "file_extension": ".py",
   "mimetype": "text/x-python",
   "name": "python",
   "nbconvert_exporter": "python",
   "pygments_lexer": "ipython3",
   "version": "3.11.2"
  }
 },
 "nbformat": 4,
 "nbformat_minor": 5
}
